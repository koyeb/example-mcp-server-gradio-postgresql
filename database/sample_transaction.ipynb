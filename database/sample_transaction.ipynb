{
 "cells": [
  {
   "cell_type": "markdown",
   "metadata": {},
   "source": [
    "## **Sampling the Database for demo purpose because the original Dataset is 5GB**"
   ]
  },
  {
   "cell_type": "markdown",
   "metadata": {},
   "source": [
    "to do the same, dowload the Dataset from there: https://www.kaggle.com/competitions/h-and-m-personalized-fashion-recommendations/data\n",
    "\n",
    "in the current folder. make sure you have the three file:\n",
    "- `customers.csv`\n",
    "- `articles.csv`\n",
    "- `transactions.csv`\n",
    "\n",
    "then run this jupyter notebook to sample the transactions file and the customers file based on the newly created transaction file"
   ]
  },
  {
   "cell_type": "code",
   "execution_count": 1,
   "metadata": {},
   "outputs": [],
   "source": [
    "import pandas as pd\n",
    "\n",
    "TRANSACTIONS_FILENAME='transaction_sample_2.csv'\n",
    "SAMPLED_TRANSACTIONS_FILENAME='transaction_sample_3.csv'\n",
    "\n",
    "CUSTOMERS_FILENAME='customers.csv'\n",
    "SAMPLED_CUSTOMERS_FILENAME='customers_filtered.csv'\n",
    "\n",
    "ARTICLES_FILENAME='articles.csv'\n",
    "SAMPLED_ARTICLES_FILENAME='articles_filtered.csv'"
   ]
  },
  {
   "cell_type": "code",
   "execution_count": 2,
   "metadata": {},
   "outputs": [
    {
     "name": "stdout",
     "output_type": "stream",
     "text": [
      "original transactions len -> 238412\n",
      "sampled transactions len -> 23841\n"
     ]
    }
   ],
   "source": [
    "transactions = pd.read_csv(TRANSACTIONS_FILENAME)\n",
    "print(\"original transactions len ->\", len(transactions))\n",
    "\n",
    "transactions = transactions.sample(frac=0.1, random_state=42)\n",
    "print(\"sampled transactions len ->\", len(transactions))"
   ]
  },
  {
   "cell_type": "code",
   "execution_count": 3,
   "metadata": {},
   "outputs": [],
   "source": [
    "transactions.to_csv(SAMPLED_TRANSACTIONS_FILENAME, index=None)\n"
   ]
  },
  {
   "cell_type": "code",
   "execution_count": 4,
   "metadata": {},
   "outputs": [],
   "source": [
    "transactions = pd.read_csv(SAMPLED_TRANSACTIONS_FILENAME)\n",
    "customers_df = pd.read_csv(CUSTOMERS_FILENAME)\n",
    "articles_df = pd.read_csv(ARTICLES_FILENAME)\n",
    "\n",
    "sampled_customer_ids = transactions['customer_id'].unique()\n",
    "sampled_articles_ids = transactions['article_id'].unique()\n",
    "\n",
    "# Filter the customer dataframe to keep only those in the sample\n",
    "customers_df_filtered = customers_df[customers_df['customer_id'].isin(sampled_customer_ids)].copy()\n",
    "articles_df_filtered = articles_df[articles_df['article_id'].isin(sampled_articles_ids)].copy()\n"
   ]
  },
  {
   "cell_type": "code",
   "execution_count": 5,
   "metadata": {},
   "outputs": [
    {
     "name": "stdout",
     "output_type": "stream",
     "text": [
      "Original customer count: 1371980\n",
      "Filtered customer count: 23133\n",
      "\n",
      "Original articles count: 105542\n",
      "Filtered articles count: 15188\n"
     ]
    }
   ],
   "source": [
    "print(f\"Original customer count: {len(customers_df)}\")\n",
    "print(f\"Filtered customer count: {len(customers_df_filtered)}\")\n",
    "print(f\"\\nOriginal articles count: {len(articles_df)}\")\n",
    "print(f\"Filtered articles count: {len(articles_df_filtered)}\")\n"
   ]
  },
  {
   "cell_type": "code",
   "execution_count": 6,
   "metadata": {},
   "outputs": [],
   "source": [
    "customers_df_filtered.to_csv(SAMPLED_CUSTOMERS_FILENAME, index=None)\n",
    "articles_df_filtered.to_csv(SAMPLED_ARTICLES_FILENAME, index=None)"
   ]
  },
  {
   "cell_type": "code",
   "execution_count": null,
   "metadata": {},
   "outputs": [],
   "source": []
  }
 ],
 "metadata": {
  "kernelspec": {
   "display_name": "devIA",
   "language": "python",
   "name": "python3"
  },
  "language_info": {
   "codemirror_mode": {
    "name": "ipython",
    "version": 3
   },
   "file_extension": ".py",
   "mimetype": "text/x-python",
   "name": "python",
   "nbconvert_exporter": "python",
   "pygments_lexer": "ipython3",
   "version": "3.12.2"
  }
 },
 "nbformat": 4,
 "nbformat_minor": 2
}
